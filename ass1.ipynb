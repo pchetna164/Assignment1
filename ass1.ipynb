{
 "cells": [
  {
   "cell_type": "markdown",
   "id": "f8c4b60d-3f87-4f52-908f-0015fc96d725",
   "metadata": {},
   "source": [
    "Ans1: 1. The first character of the variable can be an alphabet or (_) underscore.\n",
    "2. Special characters (@, #, %, ^, &, *) should not be used in variable name.\n",
    "3. Variable names are case sensitive. For example - age and AGE are two different variables.\n",
    "4. Reserve words cannot be declared as variables.\n",
    "5. Variable names should be descriptive and meaningful.\n",
    "6. Variable names should be in lowercase, and words should be separated by underscores.\n",
    "7. Constants, which are variables that are meant to be unchanging, should be in uppercase and words should be separated by underscores."
   ]
  },
  {
   "cell_type": "markdown",
   "id": "62df8fbc-17d1-476f-bc84-0c689df8eb88",
   "metadata": {},
   "source": [
    "Ans2: We can't use restricted keywords as a variable name because each keyword in python has its own meaning\n",
    "if we will use keyword as variable name then it throws an error as invalid syntax. For example:"
   ]
  },
  {
   "cell_type": "code",
   "execution_count": 1,
   "id": "293ae6cb-0f41-4a68-9a5f-33abd239a471",
   "metadata": {},
   "outputs": [
    {
     "ename": "SyntaxError",
     "evalue": "invalid syntax (2793496089.py, line 1)",
     "output_type": "error",
     "traceback": [
      "\u001b[0;36m  Cell \u001b[0;32mIn[1], line 1\u001b[0;36m\u001b[0m\n\u001b[0;31m    while = 45\u001b[0m\n\u001b[0m          ^\u001b[0m\n\u001b[0;31mSyntaxError\u001b[0m\u001b[0;31m:\u001b[0m invalid syntax\n"
     ]
    }
   ],
   "source": [
    "while = 45"
   ]
  },
  {
   "cell_type": "markdown",
   "id": "96d8d7d1-c80f-4eac-9ebb-90c0ec39cc2d",
   "metadata": {},
   "source": [
    "Ans3: No we cannot declare a string as a variable name instead we can convert string as variable name."
   ]
  },
  {
   "cell_type": "markdown",
   "id": "ea606989-d533-4181-92cb-b8a5190f7ed7",
   "metadata": {},
   "source": [
    "Ans4: Yes it is possible to declare \"_\" as variable name. For example:"
   ]
  },
  {
   "cell_type": "code",
   "execution_count": 2,
   "id": "439a736c-c970-43bb-beca-8ad61cf636ff",
   "metadata": {},
   "outputs": [],
   "source": [
    "_var = 12"
   ]
  },
  {
   "cell_type": "code",
   "execution_count": 3,
   "id": "1ab463bf-8725-40ea-aaa8-fa33fca510bc",
   "metadata": {},
   "outputs": [
    {
     "data": {
      "text/plain": [
       "12"
      ]
     },
     "execution_count": 3,
     "metadata": {},
     "output_type": "execute_result"
    }
   ],
   "source": [
    "_var"
   ]
  },
  {
   "cell_type": "code",
   "execution_count": 4,
   "id": "b8900efa-43ae-4433-85b8-75eef61e2c6a",
   "metadata": {},
   "outputs": [],
   "source": [
    "var_1 = 45.67"
   ]
  },
  {
   "cell_type": "code",
   "execution_count": 5,
   "id": "57fb686b-128a-4382-b63d-136603aedb75",
   "metadata": {},
   "outputs": [
    {
     "data": {
      "text/plain": [
       "45.67"
      ]
     },
     "execution_count": 5,
     "metadata": {},
     "output_type": "execute_result"
    }
   ],
   "source": [
    "var_1"
   ]
  },
  {
   "cell_type": "markdown",
   "id": "7bb8eca3-1faa-46ab-9a0c-77c3aeaa0022",
   "metadata": {},
   "source": [
    "Ans5: In python we need not to declare any data type before variable name. It automatically assign the data type to variable at runtime. For Example:"
   ]
  },
  {
   "cell_type": "code",
   "execution_count": 6,
   "id": "5528a4d4-8287-43d9-9d88-c3433f3990c3",
   "metadata": {},
   "outputs": [],
   "source": [
    "a = 10"
   ]
  },
  {
   "cell_type": "code",
   "execution_count": 7,
   "id": "10c9dfb1-5574-4f52-a2bf-278abfe2f777",
   "metadata": {},
   "outputs": [
    {
     "data": {
      "text/plain": [
       "int"
      ]
     },
     "execution_count": 7,
     "metadata": {},
     "output_type": "execute_result"
    }
   ],
   "source": [
    "type(a)"
   ]
  },
  {
   "cell_type": "code",
   "execution_count": 8,
   "id": "32561af8-0c0a-480b-a432-c561ede20802",
   "metadata": {},
   "outputs": [],
   "source": [
    "b = \"We are taking python classes today\""
   ]
  },
  {
   "cell_type": "code",
   "execution_count": 9,
   "id": "1b15897f-08d5-4acb-90f0-0484c2d3aab5",
   "metadata": {},
   "outputs": [
    {
     "data": {
      "text/plain": [
       "str"
      ]
     },
     "execution_count": 9,
     "metadata": {},
     "output_type": "execute_result"
    }
   ],
   "source": [
    "type(b)"
   ]
  }
 ],
 "metadata": {
  "kernelspec": {
   "display_name": "Python 3 (ipykernel)",
   "language": "python",
   "name": "python3"
  },
  "language_info": {
   "codemirror_mode": {
    "name": "ipython",
    "version": 3
   },
   "file_extension": ".py",
   "mimetype": "text/x-python",
   "name": "python",
   "nbconvert_exporter": "python",
   "pygments_lexer": "ipython3",
   "version": "3.10.8"
  }
 },
 "nbformat": 4,
 "nbformat_minor": 5
}
